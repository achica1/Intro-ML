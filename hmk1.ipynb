{
 "cells": [
  {
   "cell_type": "code",
   "execution_count": 43,
   "metadata": {},
   "outputs": [],
   "source": [
    "# ECGR 4105\n",
    "# Angelica Chica\n",
    "# ID: 800 929 546\n",
    "# Homework 1"
   ]
  },
  {
   "cell_type": "code",
   "execution_count": 44,
   "metadata": {},
   "outputs": [
    {
     "data": {
      "text/plain": [
       "545"
      ]
     },
     "execution_count": 44,
     "metadata": {},
     "output_type": "execute_result"
    }
   ],
   "source": [
    "import numpy as np\n",
    "import pandas as pd\n",
    "import matplotlib.pyplot as plt\n",
    "from sklearn.model_selection import train_test_split\n",
    "from sklearn.preprocessing import MinMaxScaler, StandardScaler\n",
    "\n",
    "df = pd.read_csv(r'C:\\Users\\achica1\\Desktop\\ML-DataSets\\Housing.csv')\n",
    "df.head()\n",
    "m = len(df)\n",
    "m\n"
   ]
  },
  {
   "cell_type": "code",
   "execution_count": 45,
   "metadata": {},
   "outputs": [],
   "source": [
    "# Compute gradient descent model parameters and cost for linear regresision\n",
    "def compute_cost(X,y,theta):\n",
    "     predictions = X.dot(theta)\n",
    "     errors = np.subtract(predictions, y)\n",
    "     sqrErrors = np.square(errors)\n",
    "     J = 1 / (2 * m) * np.sum(sqrErrors)\n",
    "     return J\n",
    "    \n",
    "def gradient_descent(X, y, theta, alpha, iterations):\n",
    "    cost_history = np.zeros(iterations)\n",
    "    for i in range(iterations):\n",
    "        predictions = X.dot(theta)\n",
    "        errors = np.subtract(predictions, y)\n",
    "        sum_delta = (alpha / m) * X.transpose().dot(errors);\n",
    "        theta = theta - sum_delta;\n",
    "        cost_history[i] = compute_cost(X, y, theta)\n",
    "\n",
    "    return theta, cost_history\n",
    "\n",
    "# Defining the map function to map strings to numbers in the table\n",
    "def binary_map(x):\n",
    "    return x.map({'yes': 1, 'no': 0})"
   ]
  },
  {
   "cell_type": "markdown",
   "metadata": {},
   "source": [
    "# Problem 1-a "
   ]
  },
  {
   "cell_type": "code",
   "execution_count": 46,
   "metadata": {},
   "outputs": [
    {
     "data": {
      "text/html": [
       "<div>\n",
       "<style scoped>\n",
       "    .dataframe tbody tr th:only-of-type {\n",
       "        vertical-align: middle;\n",
       "    }\n",
       "\n",
       "    .dataframe tbody tr th {\n",
       "        vertical-align: top;\n",
       "    }\n",
       "\n",
       "    .dataframe thead th {\n",
       "        text-align: right;\n",
       "    }\n",
       "</style>\n",
       "<table border=\"1\" class=\"dataframe\">\n",
       "  <thead>\n",
       "    <tr style=\"text-align: right;\">\n",
       "      <th></th>\n",
       "      <th>price</th>\n",
       "      <th>area</th>\n",
       "      <th>bedrooms</th>\n",
       "      <th>bathrooms</th>\n",
       "      <th>stories</th>\n",
       "      <th>mainroad</th>\n",
       "      <th>guestroom</th>\n",
       "      <th>basement</th>\n",
       "      <th>hotwaterheating</th>\n",
       "      <th>airconditioning</th>\n",
       "      <th>parking</th>\n",
       "      <th>prefarea</th>\n",
       "      <th>furnishingstatus</th>\n",
       "    </tr>\n",
       "  </thead>\n",
       "  <tbody>\n",
       "    <tr>\n",
       "      <th>0</th>\n",
       "      <td>13300000</td>\n",
       "      <td>7420</td>\n",
       "      <td>4</td>\n",
       "      <td>2</td>\n",
       "      <td>3</td>\n",
       "      <td>1</td>\n",
       "      <td>0</td>\n",
       "      <td>0</td>\n",
       "      <td>0</td>\n",
       "      <td>1</td>\n",
       "      <td>2</td>\n",
       "      <td>1</td>\n",
       "      <td>furnished</td>\n",
       "    </tr>\n",
       "    <tr>\n",
       "      <th>1</th>\n",
       "      <td>12250000</td>\n",
       "      <td>8960</td>\n",
       "      <td>4</td>\n",
       "      <td>4</td>\n",
       "      <td>4</td>\n",
       "      <td>1</td>\n",
       "      <td>0</td>\n",
       "      <td>0</td>\n",
       "      <td>0</td>\n",
       "      <td>1</td>\n",
       "      <td>3</td>\n",
       "      <td>0</td>\n",
       "      <td>furnished</td>\n",
       "    </tr>\n",
       "    <tr>\n",
       "      <th>2</th>\n",
       "      <td>12250000</td>\n",
       "      <td>9960</td>\n",
       "      <td>3</td>\n",
       "      <td>2</td>\n",
       "      <td>2</td>\n",
       "      <td>1</td>\n",
       "      <td>0</td>\n",
       "      <td>1</td>\n",
       "      <td>0</td>\n",
       "      <td>0</td>\n",
       "      <td>2</td>\n",
       "      <td>1</td>\n",
       "      <td>semi-furnished</td>\n",
       "    </tr>\n",
       "    <tr>\n",
       "      <th>3</th>\n",
       "      <td>12215000</td>\n",
       "      <td>7500</td>\n",
       "      <td>4</td>\n",
       "      <td>2</td>\n",
       "      <td>2</td>\n",
       "      <td>1</td>\n",
       "      <td>0</td>\n",
       "      <td>1</td>\n",
       "      <td>0</td>\n",
       "      <td>1</td>\n",
       "      <td>3</td>\n",
       "      <td>1</td>\n",
       "      <td>furnished</td>\n",
       "    </tr>\n",
       "    <tr>\n",
       "      <th>4</th>\n",
       "      <td>11410000</td>\n",
       "      <td>7420</td>\n",
       "      <td>4</td>\n",
       "      <td>1</td>\n",
       "      <td>2</td>\n",
       "      <td>1</td>\n",
       "      <td>1</td>\n",
       "      <td>1</td>\n",
       "      <td>0</td>\n",
       "      <td>1</td>\n",
       "      <td>2</td>\n",
       "      <td>0</td>\n",
       "      <td>furnished</td>\n",
       "    </tr>\n",
       "  </tbody>\n",
       "</table>\n",
       "</div>"
      ],
      "text/plain": [
       "      price  area  bedrooms  bathrooms  stories  mainroad  guestroom  \\\n",
       "0  13300000  7420         4          2        3         1          0   \n",
       "1  12250000  8960         4          4        4         1          0   \n",
       "2  12250000  9960         3          2        2         1          0   \n",
       "3  12215000  7500         4          2        2         1          0   \n",
       "4  11410000  7420         4          1        2         1          1   \n",
       "\n",
       "   basement  hotwaterheating  airconditioning  parking  prefarea  \\\n",
       "0         0                0                1        2         1   \n",
       "1         0                0                1        3         0   \n",
       "2         1                0                0        2         1   \n",
       "3         1                0                1        3         1   \n",
       "4         1                0                1        2         0   \n",
       "\n",
       "  furnishingstatus  \n",
       "0        furnished  \n",
       "1        furnished  \n",
       "2   semi-furnished  \n",
       "3        furnished  \n",
       "4        furnished  "
      ]
     },
     "execution_count": 46,
     "metadata": {},
     "output_type": "execute_result"
    }
   ],
   "source": [
    "# List of variables to map \n",
    "varlist = ['mainroad', 'guestroom', 'basement', 'hotwaterheating', 'airconditioning',\n",
    "           'prefarea']\n",
    "\n",
    "# Applying the function to the housing List \n",
    "df[varlist] = df[varlist].apply(binary_map)\n",
    "df.head()\n"
   ]
  },
  {
   "cell_type": "code",
   "execution_count": 47,
   "metadata": {},
   "outputs": [
    {
     "data": {
      "text/plain": [
       "(381, 13)"
      ]
     },
     "execution_count": 47,
     "metadata": {},
     "output_type": "execute_result"
    }
   ],
   "source": [
    "# Split the data into training and test sets\n",
    "np.random.seed(0)\n",
    "df_train, df_test = train_test_split(df, train_size = 0.7, test_size = 0.3, random_state = 10)\n",
    "df_train.shape"
   ]
  },
  {
   "cell_type": "code",
   "execution_count": 48,
   "metadata": {},
   "outputs": [],
   "source": [
    "theta = np.zeros(6)\n",
    "iterations = 1500;\n",
    "alpha = 0.0000000001;\n",
    "\n",
    "m = len(df_train)\n",
    "\n",
    "# Training Set, x1 = area, x2 = bedrooms, x3 = stories, x10 = parking\n",
    "price = df_train.values[:, 0] # X0\n",
    "area = df_train.values[:, 1] # X1\n",
    "bed = df_train.values[:, 2] # X2\n",
    "bath = df_train.values[:, 3] # X3\n",
    "sto = df_train.values[:, 4] # X4\n",
    "park = df_train.values[:, 10] # X10\n",
    "\n",
    "# Format training set\n",
    "Xp = np.ones((m,1))\n",
    "r_area = area.reshape(m,1)\n",
    "r_bed = bed.reshape(m,1)\n",
    "r_bath = bath.reshape(m,1)\n",
    "r_sto = sto.reshape(m,1)\n",
    "r_park = park.reshape(m,1)\n",
    "\n",
    "X = np.hstack((Xp, r_area, r_bed, r_bath, r_sto, r_park))\n",
    "Y = price\n",
    "\n",
    "# Get theta and train cost\n",
    "theta, cost_history_train = gradient_descent(X, Y, theta, alpha, iterations)"
   ]
  },
  {
   "cell_type": "code",
   "execution_count": 49,
   "metadata": {},
   "outputs": [],
   "source": [
    "theta = np.zeros(6)\n",
    "iterations = 1500;\n",
    "alpha = 0.0000000001;\n",
    "\n",
    "m = len(df_test)\n",
    "\n",
    "# test set\n",
    "price = df_test.values[:, 0]\n",
    "area = df_test.values[:, 1]\n",
    "bed = df_test.values[:, 2]\n",
    "bath = df_test.values[:, 3]\n",
    "sto = df_test.values[:, 4]\n",
    "park = df_test.values[:, 10]\n",
    "\n",
    "# Format test set\n",
    "Xp = np.ones((m,1))\n",
    "r_area = area.reshape(m,1)\n",
    "r_bed = bed.reshape(m,1)\n",
    "r_bath = bath.reshape(m,1)\n",
    "r_sto = sto.reshape(m,1)\n",
    "r_park = park.reshape(m,1)\n",
    "\n",
    "\n",
    "X = np.hstack((Xp, r_area, r_bed, r_bath, r_sto, r_park))\n",
    "Y = price\n",
    "\n",
    "# get theta and test cost\n",
    "theta, cost_history_test = gradient_descent(X, Y, theta, alpha, iterations)"
   ]
  },
  {
   "cell_type": "code",
   "execution_count": 50,
   "metadata": {},
   "outputs": [
    {
     "data": {
      "image/png": "[encoded data removed]",
      "text/plain": [
       "<Figure size 720x432 with 1 Axes>"
      ]
     },
     "metadata": {
      "needs_background": "light"
     },
     "output_type": "display_data"
    }
   ],
   "source": [
    "plt.plot(range(1, iterations + 1),cost_history_train, color='blue', label = \"Training Cost\")\n",
    "plt.plot(range(1, iterations + 1),cost_history_test, color='red', label = \"validation losses\")\n",
    "plt.rcParams[\"figure.figsize\"] = (10,6)\n",
    "plt.grid()\n",
    "plt.legend()\n",
    "plt.xlabel('Iterations')\n",
    "plt.ylabel('Cost (J)')\n",
    "plt.title('training and validation losses 1-a')\n",
    "plt.show()"
   ]
  },
  {
   "cell_type": "markdown",
   "metadata": {},
   "source": [
    "# Problem 1-b"
   ]
  },
  {
   "cell_type": "code",
   "execution_count": 51,
   "metadata": {},
   "outputs": [],
   "source": [
    "theta = np.zeros(12)\n",
    "iterations = 1500;\n",
    "alpha = 0.0000000001;\n",
    "\n",
    "m = len(df_train)\n",
    "\n",
    "# training set\n",
    "price = df_train.values[:, 0]\n",
    "area = df_train.values[:, 1]\n",
    "bed = df_train.values[:, 2]\n",
    "bath = df_train.values[:, 3]\n",
    "sto = df_train.values[:, 4]\n",
    "main = df_train.values[:, 5]\n",
    "guest = df_train.values[:, 6]\n",
    "base = df_train.values[:, 7]\n",
    "hotwa = df_train.values[:, 8]\n",
    "ac = df_train.values[:, 9]\n",
    "park = df_train.values[:, 10]\n",
    "pref = df_train.values[:, 11]\n",
    "\n",
    "# format Set\n",
    "Xp = np.ones((m,1))\n",
    "r_area = area.reshape(m,1)\n",
    "r_bed = bed.reshape(m,1)\n",
    "r_bath = bath.reshape(m,1)\n",
    "r_sto = sto.reshape(m,1)\n",
    "r_main = main.reshape(m,1)\n",
    "r_guest = guest.reshape(m,1)\n",
    "r_base = base.reshape(m,1)\n",
    "r_hotwa = hotwa.reshape(m,1)\n",
    "r_ac = ac.reshape(m,1)\n",
    "r_park = park.reshape(m,1)\n",
    "r_pref = pref.reshape(m,1)\n",
    "\n",
    "X = np.hstack((Xp, r_area, r_bed, r_bath, r_sto, r_main, r_guest, r_base, r_hotwa, r_ac, r_park, r_pref))\n",
    "Y = price\n",
    "\n",
    "theta, cost_history_train = gradient_descent(X, Y, theta, alpha, iterations)"
   ]
  },
  {
   "cell_type": "code",
   "execution_count": 52,
   "metadata": {},
   "outputs": [],
   "source": [
    "theta = np.zeros(12)\n",
    "iterations = 1500;\n",
    "alpha = 0.0000000001;\n",
    "\n",
    "m = len(df_test)\n",
    "\n",
    "# Test set\n",
    "price = df_test.values[:, 0]\n",
    "area = df_test.values[:, 1]\n",
    "bed = df_test.values[:, 2]\n",
    "bath = df_test.values[:, 3]\n",
    "sto = df_test.values[:, 4]\n",
    "main = df_test.values[:, 5]\n",
    "guest = df_test.values[:, 6]\n",
    "base = df_test.values[:, 7]\n",
    "hotwa = df_test.values[:, 8]\n",
    "ac = df_test.values[:, 9]\n",
    "park = df_test.values[:, 10]\n",
    "pref = df_test.values[:, 11]\n",
    "\n",
    "# format Set\n",
    "Xp = np.ones((m,1))\n",
    "r_area = area.reshape(m,1)\n",
    "r_bed = bed.reshape(m,1)\n",
    "r_bath = bath.reshape(m,1)\n",
    "r_sto = sto.reshape(m,1)\n",
    "r_main = main.reshape(m,1)\n",
    "r_guest = guest.reshape(m,1)\n",
    "r_base = base.reshape(m,1)\n",
    "r_hotwa = hotwa.reshape(m,1)\n",
    "r_ac = ac.reshape(m,1)\n",
    "r_park = park.reshape(m,1)\n",
    "r_pref = pref.reshape(m,1)\n",
    "\n",
    "X = np.hstack((Xp, r_area, r_bed, r_bath, r_sto, r_main, r_guest, r_base, r_hotwa, r_ac, r_park, r_pref))\n",
    "Y = price\n",
    "\n",
    "theta, cost_history_test = gradient_descent(X, Y, theta, alpha, iterations)"
   ]
  },
  {
   "cell_type": "code",
   "execution_count": 53,
   "metadata": {},
   "outputs": [
    {
     "data": {
      "image/png": "[encoded data removed]",
      "text/plain": [
       "<Figure size 720x432 with 1 Axes>"
      ]
     },
     "metadata": {
      "needs_background": "light"
     },
     "output_type": "display_data"
    }
   ],
   "source": [
    "plt.plot(range(1, iterations + 1),cost_history_train, color='blue', label = \"Training Cost\")\n",
    "plt.plot(range(1, iterations + 1),cost_history_test, color='red', label = \"Evaluation losses\")\n",
    "plt.rcParams[\"figure.figsize\"] = (10,6)\n",
    "plt.grid()\n",
    "plt.legend()\n",
    "plt.xlabel('Iterations')\n",
    "plt.ylabel('Cost (J)')\n",
    "plt.title('training and validation losses ')\n",
    "plt.show()"
   ]
  },
  {
   "cell_type": "markdown",
   "metadata": {},
   "source": [
    "# Problem 2a"
   ]
  },
  {
   "cell_type": "code",
   "execution_count": 54,
   "metadata": {},
   "outputs": [
    {
     "data": {
      "text/html": [
       "<div>\n",
       "<style scoped>\n",
       "    .dataframe tbody tr th:only-of-type {\n",
       "        vertical-align: middle;\n",
       "    }\n",
       "\n",
       "    .dataframe tbody tr th {\n",
       "        vertical-align: top;\n",
       "    }\n",
       "\n",
       "    .dataframe thead th {\n",
       "        text-align: right;\n",
       "    }\n",
       "</style>\n",
       "<table border=\"1\" class=\"dataframe\">\n",
       "  <thead>\n",
       "    <tr style=\"text-align: right;\">\n",
       "      <th></th>\n",
       "      <th>area</th>\n",
       "      <th>bedrooms</th>\n",
       "      <th>bathrooms</th>\n",
       "      <th>stories</th>\n",
       "      <th>parking</th>\n",
       "      <th>price</th>\n",
       "    </tr>\n",
       "  </thead>\n",
       "  <tbody>\n",
       "    <tr>\n",
       "      <th>175</th>\n",
       "      <td>9800</td>\n",
       "      <td>4</td>\n",
       "      <td>2</td>\n",
       "      <td>2</td>\n",
       "      <td>2</td>\n",
       "      <td>5250000</td>\n",
       "    </tr>\n",
       "    <tr>\n",
       "      <th>25</th>\n",
       "      <td>6540</td>\n",
       "      <td>4</td>\n",
       "      <td>2</td>\n",
       "      <td>2</td>\n",
       "      <td>2</td>\n",
       "      <td>8540000</td>\n",
       "    </tr>\n",
       "    <tr>\n",
       "      <th>253</th>\n",
       "      <td>3520</td>\n",
       "      <td>2</td>\n",
       "      <td>1</td>\n",
       "      <td>2</td>\n",
       "      <td>0</td>\n",
       "      <td>4515000</td>\n",
       "    </tr>\n",
       "    <tr>\n",
       "      <th>257</th>\n",
       "      <td>8250</td>\n",
       "      <td>3</td>\n",
       "      <td>1</td>\n",
       "      <td>1</td>\n",
       "      <td>0</td>\n",
       "      <td>4480000</td>\n",
       "    </tr>\n",
       "    <tr>\n",
       "      <th>431</th>\n",
       "      <td>3180</td>\n",
       "      <td>4</td>\n",
       "      <td>1</td>\n",
       "      <td>2</td>\n",
       "      <td>0</td>\n",
       "      <td>3290000</td>\n",
       "    </tr>\n",
       "  </tbody>\n",
       "</table>\n",
       "</div>"
      ],
      "text/plain": [
       "     area  bedrooms  bathrooms  stories  parking    price\n",
       "175  9800         4          2        2        2  5250000\n",
       "25   6540         4          2        2        2  8540000\n",
       "253  3520         2          1        2        0  4515000\n",
       "257  8250         3          1        1        0  4480000\n",
       "431  3180         4          1        2        0  3290000"
      ]
     },
     "execution_count": 54,
     "metadata": {},
     "output_type": "execute_result"
    }
   ],
   "source": [
    "num_vars = ['area', 'bedrooms', 'bathrooms', 'stories', 'parking', 'price']\n",
    "df_Newtrain = df_train[num_vars]\n",
    "df_Newtest = df_test[num_vars]\n",
    "df_Newtrain.head()"
   ]
  },
  {
   "cell_type": "code",
   "execution_count": 55,
   "metadata": {},
   "outputs": [],
   "source": [
    "import warnings\n",
    "warnings.filterwarnings('ignore')\n",
    "\n",
    "from sklearn.preprocessing import MinMaxScaler, StandardScaler\n",
    "\n",
    "normScaler = MinMaxScaler()\n",
    "Scaler = StandardScaler()\n",
    "\n",
    "# Normalization\n",
    "\n",
    "np.random.seed(0)\n",
    "df_Ntrain, df_Ntest = train_test_split(df, train_size = 0.7, test_size = 0.3, random_state = 10)\n",
    "df_Ntest.shape\n",
    "\n",
    "df_Ntrain[num_vars] = normScaler.fit_transform(df_Ntrain[num_vars])\n",
    "df_Ntest[num_vars] = normScaler.fit_transform(df_Ntest[num_vars])"
   ]
  },
  {
   "cell_type": "code",
   "execution_count": 56,
   "metadata": {},
   "outputs": [],
   "source": [
    "theta = np.zeros(6)\n",
    "iterations = 1500;\n",
    "alpha = 0.01;\n",
    "\n",
    "m = len(df_Ntrain)\n",
    "\n",
    "# Training Set, x1 = area, x2 = bedrooms, x3 = stories, x10 = parking\n",
    "price = df_Ntrain.values[:, 0] # X0\n",
    "area = df_Ntrain.values[:, 1] # X1\n",
    "bed = df_Ntrain.values[:, 2] # X2\n",
    "bath = df_Ntrain.values[:, 3] # X3\n",
    "sto = df_Ntrain.values[:, 4] # X4\n",
    "park = df_Ntrain.values[:, 10] # X10\n",
    "\n",
    "# Format training set\n",
    "Xp = np.ones((m,1))\n",
    "r_area = area.reshape(m,1)\n",
    "r_bed = bed.reshape(m,1)\n",
    "r_bath = bath.reshape(m,1)\n",
    "r_sto = sto.reshape(m,1)\n",
    "r_park = park.reshape(m,1)\n",
    "\n",
    "X = np.hstack((Xp, r_area, r_bed, r_bath, r_sto, r_park))\n",
    "Y = price\n",
    "\n",
    "# Get theta and train cost\n",
    "theta, cost_history_Ntrain = gradient_descent(X, Y, theta, alpha, iterations)"
   ]
  },
  {
   "cell_type": "code",
   "execution_count": 57,
   "metadata": {},
   "outputs": [],
   "source": [
    "theta = np.zeros(6)\n",
    "iterations = 1500;\n",
    "alpha = 0.01;\n",
    "\n",
    "m = len(df_Ntest)\n",
    "\n",
    "# test set\n",
    "price = df_Ntest.values[:, 0]\n",
    "area = df_Ntest.values[:, 1]\n",
    "bed = df_Ntest.values[:, 2]\n",
    "bath = df_Ntest.values[:, 3]\n",
    "sto = df_Ntest.values[:, 4]\n",
    "park = df_Ntest.values[:, 10]\n",
    "\n",
    "# Format test set\n",
    "Xp = np.ones((m,1))\n",
    "r_area = area.reshape(m,1)\n",
    "r_bed = bed.reshape(m,1)\n",
    "r_bath = bath.reshape(m,1)\n",
    "r_sto = sto.reshape(m,1)\n",
    "r_park = park.reshape(m,1)\n",
    "\n",
    "\n",
    "X = np.hstack((Xp, r_area, r_bed, r_bath, r_sto, r_park))\n",
    "Y = price\n",
    "\n",
    "# get theta and test cost\n",
    "theta, cost_history_Ntest = gradient_descent(X, Y, theta, alpha, iterations)"
   ]
  },
  {
   "cell_type": "code",
   "execution_count": 58,
   "metadata": {},
   "outputs": [
    {
     "data": {
      "image/png": "[encoded data removed]",
      "text/plain": [
       "<Figure size 720x432 with 1 Axes>"
      ]
     },
     "metadata": {
      "needs_background": "light"
     },
     "output_type": "display_data"
    }
   ],
   "source": [
    "plt.plot(range(1, iterations + 1),cost_history_Ntrain, color='blue', label = \"Training Cost\")\n",
    "plt.plot(range(1, iterations + 1),cost_history_Ntest, color='red', label = \"Evaluation losses\")\n",
    "plt.rcParams[\"figure.figsize\"] = (10,6)\n",
    "plt.grid()\n",
    "plt.legend()\n",
    "plt.xlabel('Iterations')\n",
    "plt.ylabel('Cost (J)')\n",
    "plt.title('2-a training and validation losses with Normalized Input ')\n",
    "plt.show()"
   ]
  },
  {
   "cell_type": "code",
   "execution_count": 59,
   "metadata": {},
   "outputs": [],
   "source": [
    "# Standarization\n",
    "\n",
    "np.random.seed(0)\n",
    "df_StdTrain, df_StdTest = train_test_split(df, train_size = 0.7, test_size = 0.3, random_state = 10)\n",
    "df_StdTest.shape\n",
    "\n",
    "num_vars = ['price', 'area', 'bedrooms', 'bathrooms', 'stories', 'mainroad', 'guestroom', 'basement', 'hotwaterheating', 'airconditioning', 'parking', 'prefarea']\n",
    "df_StdTrain[num_vars] = Scaler.fit_transform(df_StdTrain[num_vars])\n",
    "df_StdTest[num_vars] = Scaler.fit_transform(df_StdTest[num_vars])"
   ]
  },
  {
   "cell_type": "code",
   "execution_count": 60,
   "metadata": {},
   "outputs": [],
   "source": [
    "theta = np.zeros(6)\n",
    "iterations = 1500;\n",
    "alpha = 0.01;\n",
    "\n",
    "m = len(df_StdTrain)\n",
    "\n",
    "# Training Set, x1 = area, x2 = bedrooms, x3 = stories, x10 = parking\n",
    "price = df_StdTrain.values[:, 0] # X0\n",
    "area = df_StdTrain.values[:, 1] # X1\n",
    "bed = df_StdTrain.values[:, 2] # X2\n",
    "bath = df_StdTrain.values[:, 3] # X3\n",
    "sto = df_StdTrain.values[:, 4] # X4\n",
    "park = df_StdTrain.values[:, 10] # X10\n",
    "\n",
    "# Format training set\n",
    "Xp = np.ones((m,1))\n",
    "r_area = area.reshape(m,1)\n",
    "r_bed = bed.reshape(m,1)\n",
    "r_bath = bath.reshape(m,1)\n",
    "r_sto = sto.reshape(m,1)\n",
    "r_park = park.reshape(m,1)\n",
    "\n",
    "X = np.hstack((Xp, r_area, r_bed, r_bath, r_sto, r_park))\n",
    "Y = price\n",
    "\n",
    "# Get theta and train cost\n",
    "theta, cost_history_StdTrain = gradient_descent(X, Y, theta, alpha, iterations)"
   ]
  },
  {
   "cell_type": "code",
   "execution_count": 61,
   "metadata": {},
   "outputs": [],
   "source": [
    "theta = np.zeros(6)\n",
    "iterations = 1500;\n",
    "alpha = 0.01;\n",
    "\n",
    "m = len(df_StdTest)\n",
    "\n",
    "# test set\n",
    "price = df_StdTest.values[:, 0]\n",
    "area = df_StdTest.values[:, 1]\n",
    "bed = df_StdTest.values[:, 2]\n",
    "bath = df_StdTest.values[:, 3]\n",
    "sto = df_StdTest.values[:, 4]\n",
    "park = df_StdTest.values[:, 10]\n",
    "\n",
    "# Format test set\n",
    "Xp = np.ones((m,1))\n",
    "r_area = area.reshape(m,1)\n",
    "r_bed = bed.reshape(m,1)\n",
    "r_bath = bath.reshape(m,1)\n",
    "r_sto = sto.reshape(m,1)\n",
    "r_park = park.reshape(m,1)\n",
    "\n",
    "\n",
    "X = np.hstack((Xp, r_area, r_bed, r_bath, r_sto, r_park))\n",
    "Y = price\n",
    "\n",
    "# get theta and test cost\n",
    "theta, cost_history_StdTest = gradient_descent(X, Y, theta, alpha, iterations)"
   ]
  },
  {
   "cell_type": "code",
   "execution_count": 62,
   "metadata": {},
   "outputs": [
    {
     "data": {
      "image/png": "[encoded data removed]",
      "text/plain": [
       "<Figure size 720x432 with 1 Axes>"
      ]
     },
     "metadata": {
      "needs_background": "light"
     },
     "output_type": "display_data"
    }
   ],
   "source": [
    "plt.plot(range(1, iterations + 1),cost_history_StdTrain, color='blue', label = \"Training Cost\")\n",
    "plt.plot(range(1, iterations + 1),cost_history_StdTest, color='red', label = \"Evaluation losses\")\n",
    "plt.rcParams[\"figure.figsize\"] = (10,6)\n",
    "plt.grid()\n",
    "plt.legend()\n",
    "plt.xlabel('Iterations')\n",
    "plt.ylabel('Cost (J)')\n",
    "plt.title('2-a training and validation losses with Standarized Input ')\n",
    "plt.show()"
   ]
  },
  {
   "cell_type": "markdown",
   "metadata": {},
   "source": [
    "# Problem 2-b"
   ]
  },
  {
   "cell_type": "code",
   "execution_count": 63,
   "metadata": {},
   "outputs": [],
   "source": [
    "# Normalization\n",
    "\n",
    "theta = np.zeros(12)\n",
    "iterations = 1500;\n",
    "alpha = 0.01;\n",
    "\n",
    "m = len(df_Ntrain)\n",
    "\n",
    "# training set\n",
    "price = df_Ntrain.values[:, 0]\n",
    "area = df_Ntrain.values[:, 1]\n",
    "bed = df_Ntrain.values[:, 2]\n",
    "bath = df_Ntrain.values[:, 3]\n",
    "sto = df_Ntrain.values[:, 4]\n",
    "main = df_Ntrain.values[:, 5]\n",
    "guest = df_Ntrain.values[:, 6]\n",
    "base = df_Ntrain.values[:, 7]\n",
    "hotwa = df_Ntrain.values[:, 8]\n",
    "ac = df_Ntrain.values[:, 9]\n",
    "park = df_Ntrain.values[:, 10]\n",
    "pref = df_Ntrain.values[:, 11]\n",
    "\n",
    "# format Set\n",
    "Xp = np.ones((m,1))\n",
    "r_area = area.reshape(m,1)\n",
    "r_bed = bed.reshape(m,1)\n",
    "r_bath = bath.reshape(m,1)\n",
    "r_sto = sto.reshape(m,1)\n",
    "r_main = main.reshape(m,1)\n",
    "r_guest = guest.reshape(m,1)\n",
    "r_base = base.reshape(m,1)\n",
    "r_hotwa = hotwa.reshape(m,1)\n",
    "r_ac = ac.reshape(m,1)\n",
    "r_park = park.reshape(m,1)\n",
    "r_pref = pref.reshape(m,1)\n",
    "\n",
    "X = np.hstack((Xp, r_area, r_bed, r_bath, r_sto, r_main, r_guest, r_base, r_hotwa, r_ac, r_park, r_pref))\n",
    "Y = price\n",
    "\n",
    "theta, cost_history_Ntrain = gradient_descent(X, Y, theta, alpha, iterations)"
   ]
  },
  {
   "cell_type": "code",
   "execution_count": 64,
   "metadata": {},
   "outputs": [],
   "source": [
    "theta = np.zeros(12)\n",
    "iterations = 1500;\n",
    "alpha = 0.01;\n",
    "\n",
    "m = len(df_Ntest)\n",
    "\n",
    "# training set\n",
    "price = df_Ntest.values[:, 0]\n",
    "area = df_Ntest.values[:, 1]\n",
    "bed = df_Ntest.values[:, 2]\n",
    "bath = df_Ntest.values[:, 3]\n",
    "sto = df_Ntest.values[:, 4]\n",
    "main = df_Ntest.values[:, 5]\n",
    "guest = df_Ntest.values[:, 6]\n",
    "base = df_Ntest.values[:, 7]\n",
    "hotwa = df_Ntest.values[:, 8]\n",
    "ac = df_Ntest.values[:, 9]\n",
    "park = df_Ntest.values[:, 10]\n",
    "pref = df_Ntest.values[:, 11]\n",
    "\n",
    "# format Set\n",
    "Xp = np.ones((m,1))\n",
    "r_area = area.reshape(m,1)\n",
    "r_bed = bed.reshape(m,1)\n",
    "r_bath = bath.reshape(m,1)\n",
    "r_sto = sto.reshape(m,1)\n",
    "r_main = main.reshape(m,1)\n",
    "r_guest = guest.reshape(m,1)\n",
    "r_base = base.reshape(m,1)\n",
    "r_hotwa = hotwa.reshape(m,1)\n",
    "r_ac = ac.reshape(m,1)\n",
    "r_park = park.reshape(m,1)\n",
    "r_pref = pref.reshape(m,1)\n",
    "\n",
    "X = np.hstack((Xp, r_area, r_bed, r_bath, r_sto, r_main, r_guest, r_base, r_hotwa, r_ac, r_park, r_pref))\n",
    "Y = price\n",
    "\n",
    "theta, cost_history_Ntest = gradient_descent(X, Y, theta, alpha, iterations)"
   ]
  },
  {
   "cell_type": "code",
   "execution_count": 65,
   "metadata": {},
   "outputs": [
    {
     "data": {
      "image/png": "[encoded data removed]",
      "text/plain": [
       "<Figure size 720x432 with 1 Axes>"
      ]
     },
     "metadata": {
      "needs_background": "light"
     },
     "output_type": "display_data"
    }
   ],
   "source": [
    "plt.plot(range(1, iterations + 1),cost_history_Ntrain, color='blue', label = \"Training Cost\")\n",
    "plt.plot(range(1, iterations + 1),cost_history_Ntest, color='red', label = \"Evaluation losses\")\n",
    "plt.rcParams[\"figure.figsize\"] = (10,6)\n",
    "plt.grid()\n",
    "plt.legend()\n",
    "plt.xlabel('Iterations')\n",
    "plt.ylabel('Cost (J)')\n",
    "plt.title('2-b Training and Validation losses with Normalization ')\n",
    "plt.show()"
   ]
  },
  {
   "cell_type": "code",
   "execution_count": 66,
   "metadata": {},
   "outputs": [],
   "source": [
    "# Standarization\n",
    "\n",
    "theta = np.zeros(12)\n",
    "iterations = 1500;\n",
    "alpha = 0.01;\n",
    "\n",
    "m = len(df_StdTrain)\n",
    "\n",
    "# training set\n",
    "price = df_StdTrain.values[:, 0]\n",
    "area = df_StdTrain.values[:, 1]\n",
    "bed = df_StdTrain.values[:, 2]\n",
    "bath = df_StdTrain.values[:, 3]\n",
    "sto = df_StdTrain.values[:, 4]\n",
    "main = df_StdTrain.values[:, 5]\n",
    "guest = df_StdTrain.values[:, 6]\n",
    "base = df_StdTrain.values[:, 7]\n",
    "hotwa = df_StdTrain.values[:, 8]\n",
    "ac = df_StdTrain.values[:, 9]\n",
    "park = df_StdTrain.values[:, 10]\n",
    "pref = df_StdTrain.values[:, 11]\n",
    "\n",
    "# format Set\n",
    "Xp = np.ones((m,1))\n",
    "r_area = area.reshape(m,1)\n",
    "r_bed = bed.reshape(m,1)\n",
    "r_bath = bath.reshape(m,1)\n",
    "r_sto = sto.reshape(m,1)\n",
    "r_main = main.reshape(m,1)\n",
    "r_guest = guest.reshape(m,1)\n",
    "r_base = base.reshape(m,1)\n",
    "r_hotwa = hotwa.reshape(m,1)\n",
    "r_ac = ac.reshape(m,1)\n",
    "r_park = park.reshape(m,1)\n",
    "r_pref = pref.reshape(m,1)\n",
    "\n",
    "X = np.hstack((Xp, r_area, r_bed, r_bath, r_sto, r_main, r_guest, r_base, r_hotwa, r_ac, r_park, r_pref))\n",
    "Y = price\n",
    "\n",
    "theta, cost_history_StdTrain = gradient_descent(X, Y, theta, alpha, iterations)"
   ]
  },
  {
   "cell_type": "code",
   "execution_count": 67,
   "metadata": {},
   "outputs": [],
   "source": [
    "theta = np.zeros(12)\n",
    "iterations = 1500;\n",
    "alpha = 0.01;\n",
    "\n",
    "m = len(df_StdTest)\n",
    "\n",
    "# training set\n",
    "price = df_StdTest.values[:, 0]\n",
    "area = df_StdTest.values[:, 1]\n",
    "bed = df_StdTest.values[:, 2]\n",
    "bath = df_StdTest.values[:, 3]\n",
    "sto = df_StdTest.values[:, 4]\n",
    "main = df_StdTest.values[:, 5]\n",
    "guest = df_StdTest.values[:, 6]\n",
    "base = df_StdTest.values[:, 7]\n",
    "hotwa = df_StdTest.values[:, 8]\n",
    "ac = df_StdTest.values[:, 9]\n",
    "park = df_StdTest.values[:, 10]\n",
    "pref = df_StdTest.values[:, 11]\n",
    "\n",
    "# format Set\n",
    "Xp = np.ones((m,1))\n",
    "r_area = area.reshape(m,1)\n",
    "r_bed = bed.reshape(m,1)\n",
    "r_bath = bath.reshape(m,1)\n",
    "r_sto = sto.reshape(m,1)\n",
    "r_main = main.reshape(m,1)\n",
    "r_guest = guest.reshape(m,1)\n",
    "r_base = base.reshape(m,1)\n",
    "r_hotwa = hotwa.reshape(m,1)\n",
    "r_ac = ac.reshape(m,1)\n",
    "r_park = park.reshape(m,1)\n",
    "r_pref = pref.reshape(m,1)\n",
    "\n",
    "X = np.hstack((Xp, r_area, r_bed, r_bath, r_sto, r_main, r_guest, r_base, r_hotwa, r_ac, r_park, r_pref))\n",
    "Y = price\n",
    "\n",
    "theta, cost_history_StdTest = gradient_descent(X, Y, theta, alpha, iterations)"
   ]
  },
  {
   "cell_type": "code",
   "execution_count": 68,
   "metadata": {},
   "outputs": [
    {
     "data": {
      "image/png": "[encoded data removed]",
      "text/plain": [
       "<Figure size 720x432 with 1 Axes>"
      ]
     },
     "metadata": {
      "needs_background": "light"
     },
     "output_type": "display_data"
    }
   ],
   "source": [
    "plt.plot(range(1, iterations + 1),cost_history_StdTrain, color='blue', label = \"Training Cost\")\n",
    "plt.plot(range(1, iterations + 1),cost_history_StdTest, color='red', label = \"Evaluation losses\")\n",
    "plt.rcParams[\"figure.figsize\"] = (10,6)\n",
    "plt.grid()\n",
    "plt.legend()\n",
    "plt.xlabel('Iterations')\n",
    "plt.ylabel('Cost (J)')\n",
    "plt.title(' 2-b Training and Validation losses with Standarization ')\n",
    "plt.show()"
   ]
  },
  {
   "cell_type": "markdown",
   "metadata": {},
   "source": [
    "# Problem 3-a"
   ]
  },
  {
   "cell_type": "code",
   "execution_count": 69,
   "metadata": {},
   "outputs": [],
   "source": [
    "def gradient_descent_reg(X, y, theta, alpha, iterations, penalty):\n",
    "    cost_history = np.zeros(iterations)\n",
    "    for i in range(iterations):\n",
    "        predictions = X.dot(theta)\n",
    "        errors = np.subtract(predictions, y)\n",
    "        sum_delta = (alpha / m) * X.transpose().dot(errors);\n",
    "        theta = [element * (1 - ((alpha*penalty)/m)) for element in theta] - sum_delta;\n",
    "        cost_history[i] = compute_cost(X, y, theta)\n",
    "        \n",
    "    return theta, cost_history"
   ]
  },
  {
   "cell_type": "code",
   "execution_count": 70,
   "metadata": {},
   "outputs": [],
   "source": [
    "np.random.seed(0)\n",
    "df_Ntrain, df_Ntest = train_test_split(df, train_size = 0.7, test_size = 0.3, random_state = 10)\n",
    "df_Ntest.shape\n",
    "\n",
    "num_vars = ['price', 'area', 'bedrooms', 'bathrooms', 'stories', 'mainroad', 'guestroom', 'basement', 'hotwaterheating', 'airconditioning', 'parking', 'prefarea']\n",
    "\n",
    "df_Ntrain[num_vars] = normScaler.fit_transform(df_Ntrain[num_vars])\n",
    "df_Ntest[num_vars] = normScaler.fit_transform(df_Ntest[num_vars])\n",
    "\n"
   ]
  },
  {
   "cell_type": "code",
   "execution_count": 71,
   "metadata": {},
   "outputs": [],
   "source": [
    "# input normalization \n",
    "# Penalty Parameter \n",
    "\n",
    "theta = np.zeros(6)\n",
    "iterations = 1500;\n",
    "alpha = 0.01;\n",
    "penalty = ;\n",
    "\n",
    "m = len(df_Ntrain)\n",
    "\n",
    "# Training Set\n",
    "price = df_Ntrain.values[:, 0] # X0\n",
    "area = df_Ntrain.values[:, 1] # X1\n",
    "bed = df_Ntrain.values[:, 2] # X2\n",
    "bath = df_Ntrain.values[:, 3] # X3\n",
    "sto = df_Ntrain.values[:, 4] # X4\n",
    "park = df_Ntrain.values[:, 10] # X10\n",
    "\n",
    "# Format training set\n",
    "Xp = np.ones((m,1))\n",
    "r_area = area.reshape(m,1)\n",
    "r_bed = bed.reshape(m,1)\n",
    "r_bath = bath.reshape(m,1)\n",
    "r_sto = sto.reshape(m,1)\n",
    "r_park = park.reshape(m,1)\n",
    "\n",
    "X = np.hstack((Xp, r_area, r_bed, r_bath, r_sto, r_park))\n",
    "Y = price\n",
    "\n",
    "# Get theta and train cost\n",
    "theta, cost_history_Ntrain = gradient_descent_reg(X, Y, theta, alpha, iterations, penalty)"
   ]
  },
  {
   "cell_type": "code",
   "execution_count": 72,
   "metadata": {},
   "outputs": [],
   "source": [
    "theta = np.zeros(6)\n",
    "iterations = 1500;\n",
    "alpha = 0.01;\n",
    "penalty = 10;\n",
    "\n",
    "m = len(df_Ntest)\n",
    "\n",
    "# test set\n",
    "price = df_Ntest.values[:, 0]\n",
    "area = df_Ntest.values[:, 1]\n",
    "bed = df_Ntest.values[:, 2]\n",
    "bath = df_Ntest.values[:, 3]\n",
    "sto = df_Ntest.values[:, 4]\n",
    "park = df_Ntest.values[:, 10]\n",
    "\n",
    "# Format test set\n",
    "Xp = np.ones((m,1))\n",
    "r_area = area.reshape(m,1)\n",
    "r_bed = bed.reshape(m,1)\n",
    "r_bath = bath.reshape(m,1)\n",
    "r_sto = sto.reshape(m,1)\n",
    "r_park = park.reshape(m,1)\n",
    "\n",
    "\n",
    "X = np.hstack((Xp, r_area, r_bed, r_bath, r_sto, r_park))\n",
    "Y = price\n",
    "\n",
    "# get theta and test cost\n",
    "theta, cost_history_Ntest = gradient_descent_reg(X, Y, theta, alpha, iterations, penalty)"
   ]
  },
  {
   "cell_type": "code",
   "execution_count": 73,
   "metadata": {},
   "outputs": [
    {
     "data": {
      "image/png": "[encoded data removed]",
      "text/plain": [
       "<Figure size 720x432 with 1 Axes>"
      ]
     },
     "metadata": {
      "needs_background": "light"
     },
     "output_type": "display_data"
    }
   ],
   "source": [
    "plt.plot(range(1, iterations + 1),cost_history_Ntrain, color='blue', label = \"Training Cost\")\n",
    "plt.plot(range(1, iterations + 1),cost_history_Ntest, color='red', label = \"Evaluation losses\")\n",
    "plt.rcParams[\"figure.figsize\"] = (10,6)\n",
    "plt.grid()\n",
    "plt.legend()\n",
    "plt.xlabel('Iterations')\n",
    "plt.ylabel('Cost (J)')\n",
    "plt.title('3-a training and validation losses with Normalized Input ')\n",
    "plt.show()"
   ]
  },
  {
   "cell_type": "code",
   "execution_count": 74,
   "metadata": {},
   "outputs": [],
   "source": [
    "# Standarization\n",
    "# penalty parameter\n",
    "\n",
    "theta = np.zeros(6)\n",
    "iterations = 1500;\n",
    "alpha = 0.01;\n",
    "penalty = 10;\n",
    "\n",
    "m = len(df_StdTrain)\n",
    "\n",
    "# training set\n",
    "price = df_StdTrain.values[:, 0]\n",
    "area = df_StdTrain.values[:, 1]\n",
    "bed = df_StdTrain.values[:, 2]\n",
    "bath = df_StdTrain.values[:, 3]\n",
    "sto = df_StdTrain.values[:, 4]\n",
    "park = df_StdTrain.values[:, 10]\n",
    "\n",
    "\n",
    "# format Set\n",
    "Xp = np.ones((m,1))\n",
    "r_area = area.reshape(m,1)\n",
    "r_bed = bed.reshape(m,1)\n",
    "r_bath = bath.reshape(m,1)\n",
    "r_sto = sto.reshape(m,1)\n",
    "r_park = park.reshape(m,1)\n",
    "\n",
    "X = np.hstack((Xp, r_area, r_bed, r_bath, r_sto, r_park))\n",
    "Y = price\n",
    "\n",
    "theta, cost_history_StdTrain = gradient_descent_reg(X, Y, theta, alpha, iterations, penalty)\n"
   ]
  },
  {
   "cell_type": "code",
   "execution_count": 75,
   "metadata": {},
   "outputs": [],
   "source": [
    "# Standarization Test\n",
    "\n",
    "theta = np.zeros(6)\n",
    "iterations = 1500;\n",
    "alpha = 0.01;\n",
    "penalty = 10;\n",
    "\n",
    "m = len(df_StdTest)\n",
    "\n",
    "# test set\n",
    "price = df_StdTest.values[:, 0]\n",
    "area = df_StdTest.values[:, 1]\n",
    "bed = df_StdTest.values[:, 2]\n",
    "bath = df_StdTest.values[:, 3]\n",
    "sto = df_StdTest.values[:, 4]\n",
    "park = df_StdTest.values[:, 10]\n",
    "\n",
    "# Format test set\n",
    "Xp = np.ones((m,1))\n",
    "r_area = area.reshape(m,1)\n",
    "r_bed = bed.reshape(m,1)\n",
    "r_bath = bath.reshape(m,1)\n",
    "r_sto = sto.reshape(m,1)\n",
    "r_park = park.reshape(m,1)\n",
    "\n",
    "\n",
    "X = np.hstack((Xp, r_area, r_bed, r_bath, r_sto, r_park))\n",
    "Y = price\n",
    "\n",
    "# get theta and test cost\n",
    "theta, cost_history_StdTest = gradient_descent_reg(X, Y, theta, alpha, iterations, penalty)\n"
   ]
  },
  {
   "cell_type": "code",
   "execution_count": 76,
   "metadata": {},
   "outputs": [
    {
     "data": {
      "image/png": "[encoded data removed]",
      "text/plain": [
       "<Figure size 720x432 with 1 Axes>"
      ]
     },
     "metadata": {
      "needs_background": "light"
     },
     "output_type": "display_data"
    }
   ],
   "source": [
    "plt.plot(range(1, iterations + 1),cost_history_StdTrain, color='blue', label = \"Training Cost\")\n",
    "plt.plot(range(1, iterations + 1),cost_history_StdTest, color='red', label = \"Evaluation losses\")\n",
    "plt.rcParams[\"figure.figsize\"] = (10,6)\n",
    "plt.grid()\n",
    "plt.legend()\n",
    "plt.xlabel('Iterations')\n",
    "plt.ylabel('Cost (J)')\n",
    "plt.title('3-a Training and Validation losses with Standarization ')\n",
    "plt.show()"
   ]
  },
  {
   "cell_type": "markdown",
   "metadata": {},
   "source": [
    "# Problem 3-b"
   ]
  },
  {
   "cell_type": "code",
   "execution_count": 77,
   "metadata": {},
   "outputs": [],
   "source": [
    "# Normalization\n",
    "# penalty parameter\n",
    "\n",
    "theta = np.zeros(12)\n",
    "iterations = 1500;\n",
    "alpha = 0.01;\n",
    "penalty = 10;\n",
    "\n",
    "m = len(df_Ntrain)\n",
    "\n",
    "# training set\n",
    "price = df_Ntrain.values[:, 0]\n",
    "area = df_Ntrain.values[:, 1]\n",
    "bed = df_Ntrain.values[:, 2]\n",
    "bath = df_Ntrain.values[:, 3]\n",
    "sto = df_Ntrain.values[:, 4]\n",
    "main = df_Ntrain.values[:, 5]\n",
    "guest = df_Ntrain.values[:, 6]\n",
    "base = df_Ntrain.values[:, 7]\n",
    "hotwa = df_Ntrain.values[:, 8]\n",
    "ac = df_Ntrain.values[:, 9]\n",
    "park = df_Ntrain.values[:, 10]\n",
    "pref = df_Ntrain.values[:, 11]\n",
    "\n",
    "# format Set\n",
    "Xp = np.ones((m,1))\n",
    "r_area = area.reshape(m,1)\n",
    "r_bed = bed.reshape(m,1)\n",
    "r_bath = bath.reshape(m,1)\n",
    "r_sto = sto.reshape(m,1)\n",
    "r_main = main.reshape(m,1)\n",
    "r_guest = guest.reshape(m,1)\n",
    "r_base = base.reshape(m,1)\n",
    "r_hotwa = hotwa.reshape(m,1)\n",
    "r_ac = ac.reshape(m,1)\n",
    "r_park = park.reshape(m,1)\n",
    "r_pref = pref.reshape(m,1)\n",
    "\n",
    "X = np.hstack((Xp, r_area, r_bed, r_bath, r_sto, r_main, r_guest, r_base, r_hotwa, r_ac, r_park, r_pref))\n",
    "Y = price\n",
    "\n",
    "theta, cost_history_Ntrain = gradient_descent_reg(X, Y, theta, alpha, iterations, penalty)"
   ]
  },
  {
   "cell_type": "code",
   "execution_count": 78,
   "metadata": {},
   "outputs": [],
   "source": [
    "theta = np.zeros(12)\n",
    "iterations = 1500;\n",
    "alpha = 0.01;\n",
    "penalty = 10;\n",
    "\n",
    "m = len(df_Ntest)\n",
    "\n",
    "# training set\n",
    "price = df_Ntest.values[:, 0]\n",
    "area = df_Ntest.values[:, 1]\n",
    "bed = df_Ntest.values[:, 2]\n",
    "bath = df_Ntest.values[:, 3]\n",
    "sto = df_Ntest.values[:, 4]\n",
    "main = df_Ntest.values[:, 5]\n",
    "guest = df_Ntest.values[:, 6]\n",
    "base = df_Ntest.values[:, 7]\n",
    "hotwa = df_Ntest.values[:, 8]\n",
    "ac = df_Ntest.values[:, 9]\n",
    "park = df_Ntest.values[:, 10]\n",
    "pref = df_Ntest.values[:, 11]\n",
    "\n",
    "# format Set\n",
    "Xp = np.ones((m,1))\n",
    "r_area = area.reshape(m,1)\n",
    "r_bed = bed.reshape(m,1)\n",
    "r_bath = bath.reshape(m,1)\n",
    "r_sto = sto.reshape(m,1)\n",
    "r_main = main.reshape(m,1)\n",
    "r_guest = guest.reshape(m,1)\n",
    "r_base = base.reshape(m,1)\n",
    "r_hotwa = hotwa.reshape(m,1)\n",
    "r_ac = ac.reshape(m,1)\n",
    "r_park = park.reshape(m,1)\n",
    "r_pref = pref.reshape(m,1)\n",
    "\n",
    "X = np.hstack((Xp, r_area, r_bed, r_bath, r_sto, r_main, r_guest, r_base, r_hotwa, r_ac, r_park, r_pref))\n",
    "Y = price\n",
    "\n",
    "theta, cost_history_Ntest = gradient_descent_reg(X, Y, theta, alpha, iterations, penalty)"
   ]
  },
  {
   "cell_type": "code",
   "execution_count": 79,
   "metadata": {},
   "outputs": [
    {
     "data": {
      "image/png": "[encoded data removed]",
      "text/plain": [
       "<Figure size 720x432 with 1 Axes>"
      ]
     },
     "metadata": {
      "needs_background": "light"
     },
     "output_type": "display_data"
    }
   ],
   "source": [
    "plt.plot(range(1, iterations + 1),cost_history_Ntrain, color='blue', label = \"Training Cost\")\n",
    "plt.plot(range(1, iterations + 1),cost_history_Ntest, color='red', label = \"Evaluation losses\")\n",
    "plt.rcParams[\"figure.figsize\"] = (10,6)\n",
    "plt.grid()\n",
    "plt.legend()\n",
    "plt.xlabel('Iterations')\n",
    "plt.ylabel('Cost (J)')\n",
    "plt.title('3-b Training and Validation losses with Normalization ')\n",
    "plt.show()"
   ]
  },
  {
   "cell_type": "code",
   "execution_count": 80,
   "metadata": {},
   "outputs": [],
   "source": [
    "# Standarizarion \n",
    "# Penalty parameter\n",
    "\n",
    "theta = np.zeros(12)\n",
    "iterations = 1500;\n",
    "alpha = 0.01;\n",
    "penalty = 0.99;\n",
    "\n",
    "m = len(df_StdTrain)\n",
    "\n",
    "# training set\n",
    "price = df_StdTrain.values[:, 0]\n",
    "area = df_StdTrain.values[:, 1]\n",
    "bed = df_StdTrain.values[:, 2]\n",
    "bath = df_StdTrain.values[:, 3]\n",
    "sto = df_StdTrain.values[:, 4]\n",
    "main = df_StdTrain.values[:, 5]\n",
    "guest = df_StdTrain.values[:, 6]\n",
    "base = df_StdTrain.values[:, 7]\n",
    "hotwa = df_StdTrain.values[:, 8]\n",
    "ac = df_StdTrain.values[:, 9]\n",
    "park = df_StdTrain.values[:, 10]\n",
    "pref = df_StdTrain.values[:, 11]\n",
    "\n",
    "# format Set\n",
    "Xp = np.ones((m,1))\n",
    "r_area = area.reshape(m,1)\n",
    "r_bed = bed.reshape(m,1)\n",
    "r_bath = bath.reshape(m,1)\n",
    "r_sto = sto.reshape(m,1)\n",
    "r_main = main.reshape(m,1)\n",
    "r_guest = guest.reshape(m,1)\n",
    "r_base = base.reshape(m,1)\n",
    "r_hotwa = hotwa.reshape(m,1)\n",
    "r_ac = ac.reshape(m,1)\n",
    "r_park = park.reshape(m,1)\n",
    "r_pref = pref.reshape(m,1)\n",
    "\n",
    "X = np.hstack((Xp, r_area, r_bed, r_bath, r_sto, r_main, r_guest, r_base, r_hotwa, r_ac, r_park, r_pref))\n",
    "Y = price\n",
    "\n",
    "theta, cost_history_StdTrain = gradient_descent_reg(X, Y, theta, alpha, iterations, penalty)"
   ]
  },
  {
   "cell_type": "code",
   "execution_count": 81,
   "metadata": {},
   "outputs": [],
   "source": [
    "# test\n",
    "theta = np.zeros(12)\n",
    "iterations = 1500;\n",
    "alpha = 0.01;\n",
    "penalty = 0.99;\n",
    "\n",
    "m = len(df_StdTest)\n",
    "\n",
    "# training set\n",
    "price = df_StdTest.values[:, 0]\n",
    "area = df_StdTest.values[:, 1]\n",
    "bed = df_StdTest.values[:, 2]\n",
    "bath = df_StdTest.values[:, 3]\n",
    "sto = df_StdTest.values[:, 4]\n",
    "main = df_StdTest.values[:, 5]\n",
    "guest = df_StdTest.values[:, 6]\n",
    "base = df_StdTest.values[:, 7]\n",
    "hotwa = df_StdTest.values[:, 8]\n",
    "ac = df_StdTest.values[:, 9]\n",
    "park = df_StdTest.values[:, 10]\n",
    "pref = df_StdTest.values[:, 11]\n",
    "\n",
    "# format Set\n",
    "Xp = np.ones((m,1))\n",
    "r_area = area.reshape(m,1)\n",
    "r_bed = bed.reshape(m,1)\n",
    "r_bath = bath.reshape(m,1)\n",
    "r_sto = sto.reshape(m,1)\n",
    "r_main = main.reshape(m,1)\n",
    "r_guest = guest.reshape(m,1)\n",
    "r_base = base.reshape(m,1)\n",
    "r_hotwa = hotwa.reshape(m,1)\n",
    "r_ac = ac.reshape(m,1)\n",
    "r_park = park.reshape(m,1)\n",
    "r_pref = pref.reshape(m,1)\n",
    "\n",
    "X = np.hstack((Xp, r_area, r_bed, r_bath, r_sto, r_main, r_guest, r_base, r_hotwa, r_ac, r_park, r_pref))\n",
    "Y = price\n",
    "\n",
    "theta, cost_history_StdTest = gradient_descent_reg(X, Y, theta, alpha, iterations, penalty)"
   ]
  },
  {
   "cell_type": "code",
   "execution_count": 82,
   "metadata": {},
   "outputs": [
    {
     "data": {
      "image/png": "[encoded data removed]",
      "text/plain": [
       "<Figure size 720x432 with 1 Axes>"
      ]
     },
     "metadata": {
      "needs_background": "light"
     },
     "output_type": "display_data"
    }
   ],
   "source": [
    "# Plot 3-b\n",
    "\n",
    "plt.plot(range(1, iterations + 1),cost_history_StdTrain, color='blue', label = \"Training Cost\")\n",
    "plt.plot(range(1, iterations + 1),cost_history_StdTest, color='red', label = \"Evaluation losses\")\n",
    "plt.rcParams[\"figure.figsize\"] = (10,6)\n",
    "plt.grid()\n",
    "plt.legend()\n",
    "plt.xlabel('Iterations')\n",
    "plt.ylabel('Cost (J)')\n",
    "plt.title('3-b Training and Validation losses with Standarization ')\n",
    "plt.show()"
   ]
  },
  {
   "cell_type": "code",
   "execution_count": null,
   "metadata": {},
   "outputs": [],
   "source": []
  },
  {
   "cell_type": "code",
   "execution_count": null,
   "metadata": {},
   "outputs": [],
   "source": []
  }
 ],
 "metadata": {
  "kernelspec": {
   "display_name": "Python 3 (ipykernel)",
   "language": "python",
   "name": "python3"
  },
  "language_info": {
   "codemirror_mode": {
    "name": "ipython",
    "version": 3
   },
   "file_extension": ".py",
   "mimetype": "text/x-python",
   "name": "python",
   "nbconvert_exporter": "python",
   "pygments_lexer": "ipython3",
   "version": "3.9.12"
  }
 },
 "nbformat": 4,
 "nbformat_minor": 4
}
